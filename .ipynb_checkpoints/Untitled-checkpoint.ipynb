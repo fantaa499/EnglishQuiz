{
 "cells": [
  {
   "cell_type": "code",
   "execution_count": 52,
   "metadata": {},
   "outputs": [],
   "source": [
    "import pandas as pd\n",
    "import numpy  as np"
   ]
  },
  {
   "cell_type": "code",
   "execution_count": 113,
   "metadata": {},
   "outputs": [],
   "source": [
    "df = pd.read_csv(\"translate_words.csv\")\n",
    "df = df[[\"Words\",\"Translate\"]]"
   ]
  },
  {
   "cell_type": "code",
   "execution_count": 130,
   "metadata": {
    "scrolled": true
   },
   "outputs": [],
   "source": [
    "import os\n",
    "clear = lambda: os.system('cls')\n",
    "\n",
    "\n",
    "def quiz(df):\n",
    "    rs = set()\n",
    "    r = np.random.randint(df.shape[0])\n",
    "    str_quiz = \"\"\n",
    "    str_answers = \"\"\n",
    "    for _ in range(10):\n",
    "        while r in rs:\n",
    "            r = np.random.randint(df.shape[0])\n",
    "        rs.add(r)\n",
    "        str_quiz += \"\\n\" + df[\"Words\"].iloc[r]\n",
    "        str_answers += \"\\n\" + df[\"Translate\"].iloc[r]\n",
    "    print (str_quiz)\n",
    "    input(\"Для ответов нажите enter\")\n",
    "    clear()\n",
    "    print (str_answers)"
   ]
  },
  {
   "cell_type": "code",
   "execution_count": 131,
   "metadata": {},
   "outputs": [
    {
     "name": "stdout",
     "output_type": "stream",
     "text": [
      "\n",
      "consequence\n",
      "involve\n",
      "exaggerate\n",
      "prefer\n",
      "encouraged\n",
      "appreciate\n",
      "accustomed\n",
      "fasten\n",
      "span\n",
      "nappies\n",
      "Для ответов нажите enter\n",
      "\n",
      "последствие\n",
      "вовлекать\n",
      "преувеличивать\n",
      "предпочитать\n",
      "поощренный\n",
      "ценить\n",
      "привыкший\n",
      "скреплять\n",
      "промежуток\n",
      "подгузник\n"
     ]
    }
   ],
   "source": [
    "quiz(df)"
   ]
  }
 ],
 "metadata": {
  "kernelspec": {
   "display_name": "Python 3",
   "language": "python",
   "name": "python3"
  },
  "language_info": {
   "codemirror_mode": {
    "name": "ipython",
    "version": 3
   },
   "file_extension": ".py",
   "mimetype": "text/x-python",
   "name": "python",
   "nbconvert_exporter": "python",
   "pygments_lexer": "ipython3",
   "version": "3.7.0"
  },
  "toc": {
   "base_numbering": 1,
   "nav_menu": {},
   "number_sections": true,
   "sideBar": true,
   "skip_h1_title": false,
   "title_cell": "Table of Contents",
   "title_sidebar": "Contents",
   "toc_cell": false,
   "toc_position": {},
   "toc_section_display": true,
   "toc_window_display": false
  },
  "varInspector": {
   "cols": {
    "lenName": 16,
    "lenType": 16,
    "lenVar": 40
   },
   "kernels_config": {
    "python": {
     "delete_cmd_postfix": "",
     "delete_cmd_prefix": "del ",
     "library": "var_list.py",
     "varRefreshCmd": "print(var_dic_list())"
    },
    "r": {
     "delete_cmd_postfix": ") ",
     "delete_cmd_prefix": "rm(",
     "library": "var_list.r",
     "varRefreshCmd": "cat(var_dic_list()) "
    }
   },
   "position": {
    "height": "266.667px",
    "left": "737px",
    "right": "20px",
    "top": "125px",
    "width": "491.667px"
   },
   "types_to_exclude": [
    "module",
    "function",
    "builtin_function_or_method",
    "instance",
    "_Feature"
   ],
   "window_display": false
  }
 },
 "nbformat": 4,
 "nbformat_minor": 2
}
